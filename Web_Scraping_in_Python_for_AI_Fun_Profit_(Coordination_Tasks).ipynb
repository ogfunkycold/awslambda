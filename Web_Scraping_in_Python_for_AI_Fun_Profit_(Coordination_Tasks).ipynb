{
  "nbformat": 4,
  "nbformat_minor": 0,
  "metadata": {
    "kernelspec": {
      "display_name": "Python 3",
      "language": "python",
      "name": "python3"
    },
    "language_info": {
      "codemirror_mode": {
        "name": "ipython",
        "version": 3
      },
      "file_extension": ".py",
      "mimetype": "text/x-python",
      "name": "python",
      "nbconvert_exporter": "python",
      "pygments_lexer": "ipython3",
      "version": "3.6.4"
    },
    "toc": {
      "nav_menu": {},
      "number_sections": true,
      "sideBar": true,
      "skip_h1_title": false,
      "title_cell": "Table of Contents",
      "title_sidebar": "Contents",
      "toc_cell": false,
      "toc_position": {},
      "toc_section_display": true,
      "toc_window_display": false
    },
    "colab": {
      "name": "Web_Scraping_in_Python_for_AI_Fun_Profit_(Coordination Tasks).ipynb",
      "provenance": [],
      "toc_visible": true,
      "include_colab_link": true
    }
  },
  "cells": [
    {
      "cell_type": "markdown",
      "metadata": {
        "id": "view-in-github",
        "colab_type": "text"
      },
      "source": [
        "<a href=\"https://colab.research.google.com/github/ogfunkycold/awslambda/blob/master/Web_Scraping_in_Python_for_AI_Fun_Profit_(Coordination_Tasks).ipynb\" target=\"_parent\"><img src=\"https://colab.research.google.com/assets/colab-badge.svg\" alt=\"Open In Colab\"/></a>"
      ]
    },
    {
      "cell_type": "markdown",
      "metadata": {
        "id": "qtCbPkCbLh6c",
        "colab_type": "text"
      },
      "source": [
        "### AWS Lambda and Chalice\n",
        "\n",
        "Can Be Used To Coordinate Work.  \n",
        "\n",
        "* [AWS Lambda](https://aws.amazon.com/lambda/) allows a user to run functions in AWS.\n",
        "* [Chalice](http://chalice.readthedocs.io/en/latest/) is a framework for building AWS Lambdas in Python.\n",
        "\n",
        "*Some prerequisites to get started:*\n",
        "\n",
        "1.  Must have AWS Account\n",
        "2.  Need to have API Credentials\n",
        "3.  Lambda role (that chalice creates) must have a policy associated with privilages necessary to call appropriate AWS Services...i.e. S3.\n",
        "\n",
        "\n"
      ]
    },
    {
      "cell_type": "markdown",
      "metadata": {
        "id": "w5bgi07pLh6d",
        "colab_type": "text"
      },
      "source": [
        "##### Getting IAM Credentials Setup\n",
        "\n",
        "* There are detailed instructions on setting up [AWS Credentials Here](http://boto3.readthedocs.io/en/latest/guide/configuration.html)\n",
        "\n",
        "* Details about [exporting AWS variables here on Windows and Linux](http://docs.aws.amazon.com/amazonswf/latest/awsrbflowguide/set-up-creds.html)\n"
      ]
    },
    {
      "cell_type": "markdown",
      "metadata": {
        "id": "FVvqRmieLh6e",
        "colab_type": "text"
      },
      "source": [
        "There are many ways configure credentials, but for users of [virtualenv](https://virtualenv.pypa.io/en/stable/)....\n",
        "One trick is to put your AWS credentials into your local virtualenv in side /bin/activate\n",
        "```bash\n",
        "#Add AWS Keys\n",
        "AWS_DEFAULT_REGION=us-east-1\n",
        "AWS_ACCESS_KEY_ID=xxxxxxxx\n",
        "AWS_SESSION_TOKEN=xxxxxxxx\n",
        "\n",
        "#export Keys\n",
        "export AWS_DEFAULT_REGION\n",
        "export AWS_ACCESS_KEY_ID\n",
        "export AWS_DEFAULT_REGION\n",
        "```"
      ]
    },
    {
      "cell_type": "markdown",
      "metadata": {
        "id": "U8fguQGJLh6f",
        "colab_type": "text"
      },
      "source": [
        "##### Run chalice new-project command"
      ]
    },
    {
      "cell_type": "code",
      "metadata": {
        "id": "L400XkP1Lh6g",
        "colab_type": "code",
        "colab": {},
        "outputId": "19739216-fc39-49d4-9c22-ee1f0f59373a"
      },
      "source": [
        "!chalice"
      ],
      "execution_count": 0,
      "outputs": [
        {
          "output_type": "stream",
          "text": [
            "Usage: chalice [OPTIONS] COMMAND [ARGS]...\r\n",
            "\r\n",
            "Options:\r\n",
            "  --version             Show the version and exit.\r\n",
            "  --project-dir TEXT    The project directory.  Defaults to CWD\r\n",
            "  --debug / --no-debug  Print debug logs to stderr.\r\n",
            "  --help                Show this message and exit.\r\n",
            "\r\n",
            "Commands:\r\n",
            "  delete\r\n",
            "  deploy\r\n",
            "  gen-policy\r\n",
            "  generate-pipeline  Generate a cloudformation template for a...\r\n",
            "  generate-sdk\r\n",
            "  local\r\n",
            "  logs\r\n",
            "  new-project\r\n",
            "  package\r\n",
            "  url\r\n"
          ],
          "name": "stdout"
        }
      ]
    },
    {
      "cell_type": "markdown",
      "metadata": {
        "id": "TDt67JBULh6l",
        "colab_type": "text"
      },
      "source": [
        "##### Create a timed execution\n",
        "\n",
        "```python\n",
        "@app.schedule(Rate(1, unit=Rate.MINUTES))\n",
        "def every_minute(event):\n",
        "    \"\"\"Scheduled event that runs every minute\"\"\"\n",
        "\n",
        "    #do web scraping here\n",
        "    print(event.to_dict())\n",
        "```\n",
        "\n",
        "#### DEMO:  Can test out code locally with chalice local\n",
        "\n",
        "```bash\n",
        "(.web_scraping_python) ➜  scrape-yahoo git:(master) ✗ chalice local\n",
        "Serving on 127.0.0.1:8000\n",
        "scrape-yahoo - INFO - / Route: for scrape-yahoo\n",
        "127.0.0.1 - - [12/Dec/2017 03:25:42] \"GET / HTTP/1.1\" 200 -\n",
        "127.0.0.1 - - [12/Dec/2017 03:25:42] \"GET /favicon.ico HTTP/1.1\" 403 -\n",
        "scrape-yahoo - INFO - / Route: for scrape-yahoo\n",
        "127.0.0.1 - - [12/Dec/2017 03:25:45] \"GET / HTTP/1.1\" 200 -\n",
        "127.0.0.1 - - [12/Dec/2017 03:25:45] \"GET /favicon.ico HTTP/1.1\" 403 -\n",
        "scrape-yahoo - INFO - /player_urls Route: for scrape-yahoo\n",
        "scrape-yahoo - INFO - Fetching urls from https://sports.yahoo.com/nba/stats/\n",
        "https://sports.yahoo.com/nba/players/4563/\n",
        "https://sports.yahoo.com/nba/players/5185/\n",
        "https://sports.yahoo.com/nba/players/3704/\n",
        "https://sports.yahoo.com/nba/players/5012/\n",
        "https://sports.yahoo.com/nba/players/4612/\n",
        "https://sports.yahoo.com/nba/players/5015/\n",
        "https://sports.yahoo.com/nba/players/4497/\n",
        "https://sports.yahoo.com/nba/players/4720/\n",
        "https://sports.yahoo.com/nba/players/3818/\n",
        "https://sports.yahoo.com/nba/players/5432/\n",
        "https://sports.yahoo.com/nba/players/5471/\n",
        "https://sports.yahoo.com/nba/players/4244/\n",
        "https://sports.yahoo.com/nba/players/5464/\n",
        "https://sports.yahoo.com/nba/players/5294/\n",
        "https://sports.yahoo.com/nba/players/5336/\n",
        "https://sports.yahoo.com/nba/players/4390/\n",
        "https://sports.yahoo.com/nba/players/4563/\n",
        "https://sports.yahoo.com/nba/players/3704/\n",
        "https://sports.yahoo.com/nba/players/5600/\n",
        "https://sports.yahoo.com/nba/players/4624/\n",
        "127.0.0.1 - - [12/Dec/2017 03:25:53] \"GET /player_urls HTTP/1.1\" 200 -\n",
        "127.0.0.1 - - [12/Dec/2017 03:25:53] \"GET /favicon.ico HTTP/1.1\" 403 -\n",
        "```\n",
        "#### DEMO:  Quick Demo of Deploying Chalice App With Attached Lambdas\n",
        "```bash\n",
        "(.web_scraping_python) ➜  scrape-yahoo git:(master) ✗ chalice deploy \n",
        "Creating role: scrape-yahoo-dev\n",
        "Creating deployment package.\n",
        "Creating lambda function: scrape-yahoo-dev\n",
        "Initiating first time deployment.\n",
        "Deploying to API Gateway stage: api\n",
        "https://bt98uzs1cc.execute-api.us-east-1.amazonaws.com/api/\n",
        "```\n",
        "\n",
        "#### DEMO Retrieve Links:\n",
        "\n",
        "Using [http cli](https://github.com/jakubroztocil/httpie)\n",
        "\n",
        "```bash\n",
        "(.web_scraping_python) ➜  scrape-yahoo git:(master) ✗ http https://bt98uzs1cc.execute-api.us-east-1.amazonaws.com/api/player_urls\n",
        "HTTP/1.1 200 OK\n",
        "Connection: keep-alive\n",
        "Content-Length: 941\n",
        "Content-Type: application/json\n",
        "Date: Tue, 12 Dec 2017 11:48:41 GMT\n",
        "Via: 1.1 ba90f9bd20de9ac04075a8309c165ab1.cloudfront.net (CloudFront)\n",
        "X-Amz-Cf-Id: ViZswjo4UeHYwrc9e-5vMVTDhV_Ic0dhVIG0BrDdtYqd5KWcAuZKKQ==\n",
        "X-Amzn-Trace-Id: sampled=0;root=1-5a2fc217-07cc12d50a4d38a59a688f5c\n",
        "X-Cache: Miss from cloudfront\n",
        "x-amzn-RequestId: 64f24fcd-df32-11e7-a81a-2b511652b4f6\n",
        "\n",
        "{\n",
        "    \"nba_player_urls\": [\n",
        "        \"https://sports.yahoo.com/nba/players/4563/\", \n",
        "        \"https://sports.yahoo.com/nba/players/5185/\", \n",
        "        \"https://sports.yahoo.com/nba/players/3704/\", \n",
        "        \"https://sports.yahoo.com/nba/players/5012/\", \n",
        "        \"https://sports.yahoo.com/nba/players/4612/\", \n",
        "        \"https://sports.yahoo.com/nba/players/5015/\", \n",
        "        \"https://sports.yahoo.com/nba/players/4497/\", \n",
        "        \"https://sports.yahoo.com/nba/players/4720/\", \n",
        "        \"https://sports.yahoo.com/nba/players/3818/\", \n",
        "        \"https://sports.yahoo.com/nba/players/5432/\", \n",
        "        \"https://sports.yahoo.com/nba/players/5471/\", \n",
        "        \"https://sports.yahoo.com/nba/players/4244/\", \n",
        "        \"https://sports.yahoo.com/nba/players/5464/\", \n",
        "        \"https://sports.yahoo.com/nba/players/5294/\", \n",
        "        \"https://sports.yahoo.com/nba/players/5336/\", \n",
        "        \"https://sports.yahoo.com/nba/players/4390/\", \n",
        "        \"https://sports.yahoo.com/nba/players/4563/\", \n",
        "        \"https://sports.yahoo.com/nba/players/3704/\", \n",
        "        \"https://sports.yahoo.com/nba/players/5600/\", \n",
        "        \"https://sports.yahoo.com/nba/players/4624/\"\n",
        "    ]\n",
        "}\n",
        "```\n",
        "\n",
        "\n",
        "There are many other ways to invoke AWS Lambdas:\n",
        "\n",
        "* SNS Lambda (Massive Parallization of work with \"true\" concurrency in Python vs GIL)\n",
        "* Invoking from other [Lambdas or tools in Python](http://docs.aws.amazon.com/lambda/latest/dg/python-programming-model-handler-types.html)\n",
        "* Scheduled Lambdas, running on timers\n",
        "* Events, like S3 Events\n",
        "\n",
        "#### DEMO Commandline Tool:\n",
        "```bash\n",
        "(.web_scraping_python) ➜  web_scraping_python git:(master) ✗ ./wscli.py lambda               \n",
        "Lambda Function invoked from cli:\n",
        "{\"message\": \"instantiate lambda client\", \"region_name\": \"us-east-1\", \"aws_service\": \"lambda\"}\n",
        "{\"message\": \"Calling lambda function\", \"function_name\": \"scrape-yahoo-dev-return_player_urls\", \"aws_service\": \"lambda\", \"payload\": \"{\\\"cli\\\":\\\"invoke\\\"}\"}\n",
        "{\"message\": null, \"ResponseMetadata\": {\"RequestId\": \"e86077de-df3b-11e7-8b67-13dd918ec87d\", \"HTTPStatusCode\": 200, \"HTTPHeaders\": {\"date\": \"Tue, 12 Dec 2017 12:56:47 GMT\", \"content-type\": \"application/json\", \"content-length\": \"941\", \"connection\": \"keep-alive\", \"x-amzn-requestid\": \"e86077de-df3b-11e7-8b67-13dd918ec87d\", \"x-amzn-remapped-content-length\": \"0\", \"x-amz-executed-version\": \"$LATEST\", \"x-amzn-trace-id\": \"root=1-5a2fd20d-3b57840f0e4fac761d8c30e6;sampled=0\"}, \"RetryAttempts\": 0}, \"StatusCode\": 200, \"ExecutedVersion\": \"$LATEST\", \"Payload\": \"<botocore.response.StreamingBody object at 0x10d564e10>\", \"function_name\": \"scrape-yahoo-dev-return_player_urls\", \"aws_service\": \"lambda\", \"payload\": \"{\\\"cli\\\":\\\"invoke\\\"}\"}\n",
        "Lambda Return Value Below:\n",
        "{\n",
        "    \"nba_player_urls\": [\n",
        "        \"https://sports.yahoo.com/nba/players/4563/\",\n",
        "        \"https://sports.yahoo.com/nba/players/5185/\",\n",
        "        \"https://sports.yahoo.com/nba/players/3704/\",\n",
        "        \"https://sports.yahoo.com/nba/players/5012/\",\n",
        "        \"https://sports.yahoo.com/nba/players/4612/\",\n",
        "        \"https://sports.yahoo.com/nba/players/5015/\",\n",
        "        \"https://sports.yahoo.com/nba/players/4497/\",\n",
        "        \"https://sports.yahoo.com/nba/players/4720/\",\n",
        "        \"https://sports.yahoo.com/nba/players/3818/\",\n",
        "        \"https://sports.yahoo.com/nba/players/5432/\",\n",
        "        \"https://sports.yahoo.com/nba/players/5471/\",\n",
        "        \"https://sports.yahoo.com/nba/players/4244/\",\n",
        "        \"https://sports.yahoo.com/nba/players/5294/\",\n",
        "        \"https://sports.yahoo.com/nba/players/5464/\",\n",
        "        \"https://sports.yahoo.com/nba/players/5336/\",\n",
        "        \"https://sports.yahoo.com/nba/players/4390/\",\n",
        "        \"https://sports.yahoo.com/nba/players/4563/\",\n",
        "        \"https://sports.yahoo.com/nba/players/3704/\",\n",
        "        \"https://sports.yahoo.com/nba/players/5600/\",\n",
        "        \"https://sports.yahoo.com/nba/players/4624/\"\n",
        "    ]\n",
        "}\n",
        "```\n",
        "#### DEMO Commandline Tool (Invoking Second Lambda Function):\n",
        "\n",
        "```bash\n",
        "(.web_scraping_python) ➜  web_scraping_python git:(master) ✗ ./wscli.py lambda --func=scrape-yahoo-dev-birthplace_from_urls --payload '{\"url\":[\"https://sports.yahoo.com/nba/players/4624/\", \"https://sports.yahoo.com/nba/players/5185/\"]}'\n",
        "Lambda Function invoked from cli:\n",
        "{\"message\": \"instantiate lambda client\", \"region_name\": \"us-east-1\", \"aws_service\": \"lambda\"}\n",
        "{\"message\": \"Calling lambda function\", \"function_name\": \"scrape-yahoo-dev-birthplace_from_urls\", \"aws_service\": \"lambda\", \"payload\": \"{\\\"url\\\":[\\\"https://sports.yahoo.com/nba/players/4624/\\\", \\\"https://sports.yahoo.com/nba/players/5185/\\\"]}\"}\n",
        "{\"message\": null, \"ResponseMetadata\": {\"RequestId\": \"a6049115-df59-11e7-935d-bb1de9c0649d\", \"HTTPStatusCode\": 200, \"HTTPHeaders\": {\"date\": \"Tue, 12 Dec 2017 16:29:43 GMT\", \"content-type\": \"application/json\", \"content-length\": \"118\", \"connection\": \"keep-alive\", \"x-amzn-requestid\": \"a6049115-df59-11e7-935d-bb1de9c0649d\", \"x-amzn-remapped-content-length\": \"0\", \"x-amz-executed-version\": \"$LATEST\", \"x-amzn-trace-id\": \"root=1-5a3003f2-2583679b2456022568ed0682;sampled=0\"}, \"RetryAttempts\": 0}, \"StatusCode\": 200, \"ExecutedVersion\": \"$LATEST\", \"Payload\": \"<botocore.response.StreamingBody object at 0x10ee37dd8>\", \"function_name\": \"scrape-yahoo-dev-birthplace_from_urls\", \"aws_service\": \"lambda\", \"payload\": \"{\\\"url\\\":[\\\"https://sports.yahoo.com/nba/players/4624/\\\", \\\"https://sports.yahoo.com/nba/players/5185/\\\"]}\"}\n",
        "Lambda Return Value Below:\n",
        "{\n",
        "    \"https://sports.yahoo.com/nba/players/4624/\": \"Indianapolis\",\n",
        "    \"https://sports.yahoo.com/nba/players/5185/\": \"Athens\"\n",
        "}\n",
        "```\n"
      ]
    },
    {
      "cell_type": "markdown",
      "metadata": {
        "id": "moPmu0qMLh6m",
        "colab_type": "text"
      },
      "source": [
        "#### AWS Step Functions\n",
        "\n",
        "Can coordinate multiple lambdas to create a pipeline. Can be triggered via \"timed\" lambda, called\n",
        "\n",
        "```json\n",
        "{\n",
        "    \"Comment\": \"Fetch Player Urls\",\n",
        "    \"StartAt\": \"FetchUrls\",\n",
        "    \"States\": {\n",
        "      \"FetchUrls\": {\n",
        "        \"Type\": \"Task\",\n",
        "        \"Resource\": \"arn:aws:lambda:us-east-1:561744971673:function:scrape-yahoo-dev-return_player_urls\",\n",
        "        \"Next\": \"FetchBirthplaces\"\n",
        "      },\n",
        "      \"FetchBirthplaces\": {\n",
        "        \"Type\": \"Task\",\n",
        "        \"Resource\": \"arn:aws:lambda:us-east-1:561744971673:function:scrape-yahoo-dev-birthplace_from_urls\",\n",
        "        \"Next\": \"Finish\"\n",
        "      },\n",
        "        \"Finish\": {\n",
        "        \"Type\": \"Pass\",\n",
        "        \"Result\": \"Finished\",\n",
        "        \"End\": true\n",
        "      }\n",
        "    } \n",
        "}\n",
        "```\n",
        "\n",
        "#### Demo:  AWS Step Functions\n"
      ]
    },
    {
      "cell_type": "code",
      "metadata": {
        "id": "WpFhfv-tLh6m",
        "colab_type": "code",
        "colab": {}
      },
      "source": [
        ""
      ],
      "execution_count": 0,
      "outputs": []
    }
  ]
}